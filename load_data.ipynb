{
 "cells": [
  {
   "cell_type": "code",
   "execution_count": 8,
   "metadata": {},
   "outputs": [],
   "source": [
    "import pandas as pd\n",
    "import matplotlib.pyplot as plt\n",
    "import fix_yahoo_finance as yf\n",
    "\n",
    "%matplotlib inline"
   ]
  },
  {
   "cell_type": "code",
   "execution_count": 2,
   "metadata": {},
   "outputs": [],
   "source": [
    "df = pd.read_csv('20180601-asx-listed-companies.csv', header=1)"
   ]
  },
  {
   "cell_type": "code",
   "execution_count": 3,
   "metadata": {},
   "outputs": [
    {
     "name": "stdout",
     "output_type": "stream",
     "text": [
      "(2268, 7)\n",
      "['Code', 'Company', 'Sector', 'Market Cap', 'Weight(%)', 'Unnamed: 5', 'Total Index Market Cap']\n",
      "  Code              Company                      Sector   Market Cap  \\\n",
      "0  1PG       1-Page Limited      Information Technology   24,988,000   \n",
      "1  1ST    1ST Group Limited                 Health Care    7,034,070   \n",
      "2  3PL  3P Learning Limited      Consumer Discretionary  188,662,000   \n",
      "3  4DS   4DS Memory Limited      Information Technology   50,053,400   \n",
      "4  5GN  5G Networks Limited  Telecommunication Services   14,697,300   \n",
      "\n",
      "  Weight(%)  Unnamed: 5 Total Index Market Cap  \n",
      "0     0.001         NaN      2,064,260,493,145  \n",
      "1     0.000         NaN                    NaN  \n",
      "2     0.009         NaN                    NaN  \n",
      "3     0.002         NaN                    NaN  \n",
      "4     0.001         NaN                    NaN  \n"
     ]
    }
   ],
   "source": [
    "print (df.shape)\n",
    "print (list(df))\n",
    "print(df.head())"
   ]
  },
  {
   "cell_type": "code",
   "execution_count": 5,
   "metadata": {},
   "outputs": [
    {
     "data": {
      "text/plain": [
       "'1PG'"
      ]
     },
     "execution_count": 5,
     "metadata": {},
     "output_type": "execute_result"
    }
   ],
   "source": [
    "df['Code'][0]"
   ]
  },
  {
   "cell_type": "code",
   "execution_count": 7,
   "metadata": {},
   "outputs": [
    {
     "name": "stdout",
     "output_type": "stream",
     "text": [
      "1PG\n"
     ]
    }
   ],
   "source": [
    "for code in df['Code']:\n",
    "    print (code)\n",
    "    break"
   ]
  },
  {
   "cell_type": "code",
   "execution_count": 13,
   "metadata": {},
   "outputs": [
    {
     "name": "stdout",
     "output_type": "stream",
     "text": [
      "start\n",
      "[*********************100%***********************]  1 of 1 downloaded\n",
      "end downloading data\n",
      "<class 'pandas.core.frame.DataFrame'>\n"
     ]
    },
    {
     "data": {
      "image/png": "[encoded data removed]",
      "text/plain": [
       "<matplotlib.figure.Figure at 0x17a41f08a58>"
      ]
     },
     "metadata": {},
     "output_type": "display_data"
    },
    {
     "name": "stdout",
     "output_type": "stream",
     "text": [
      "end\n"
     ]
    }
   ],
   "source": [
    "print (\"start\")\n",
    "data = yf.download('ASX.AX','2016-01-01','2018-01-01')\n",
    "print (\"end downloading data\")\n",
    "print (type(data))\n",
    "data.Close.plot()\n",
    "plt.show()\n",
    "print (\"end\")\n"
   ]
  },
  {
   "cell_type": "code",
   "execution_count": 14,
   "metadata": {},
   "outputs": [
    {
     "name": "stdout",
     "output_type": "stream",
     "text": [
      "<class 'pandas.core.frame.DataFrame'> (505, 6)\n",
      "['Open', 'High', 'Low', 'Close', 'Adj Close', 'Volume']\n"
     ]
    }
   ],
   "source": [
    "print (type(data), data.shape)\n",
    "print (list(data))"
   ]
  },
  {
   "cell_type": "code",
   "execution_count": null,
   "metadata": {},
   "outputs": [],
   "source": [
    "#cols available = ['Code', 'Company', 'Sector', 'Market Cap', 'Weight(%)', 'Unnamed: 5', 'Total Index Market Cap']\n",
    "#cols to store in db : ['Code', 'Company', 'Sector']\n"
   ]
  }
 ],
 "metadata": {
  "kernelspec": {
   "display_name": "Python 3",
   "language": "python",
   "name": "python3"
  },
  "language_info": {
   "codemirror_mode": {
    "name": "ipython",
    "version": 3
   },
   "file_extension": ".py",
   "mimetype": "text/x-python",
   "name": "python",
   "nbconvert_exporter": "python",
   "pygments_lexer": "ipython3",
   "version": "3.6.4"
  }
 },
 "nbformat": 4,
 "nbformat_minor": 2
}
