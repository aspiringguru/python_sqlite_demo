{
 "cells": [
  {
   "cell_type": "code",
   "execution_count": 2,
   "metadata": {},
   "outputs": [
    {
     "name": "stdout",
     "output_type": "stream",
     "text": [
      "Collecting googlefinance.client\n",
      "  Downloading https://files.pythonhosted.org/packages/7d/93/045c1387698fbad410d9c65090321dc8ba8805727879596130364f8c6231/googlefinance.client-1.3.0.tar.gz\n",
      "Collecting datetime (from googlefinance.client)\n",
      "  Downloading https://files.pythonhosted.org/packages/0d/db/511934e34360fe0cfe91fc58483b25d8a9c516264ff2877dadb11a0612cd/DateTime-4.2-py2.py3-none-any.whl (60kB)\n",
      "Requirement already satisfied: requests in c:\\users\\username\\anaconda3\\lib\\site-packages (from googlefinance.client) (2.18.4)\n",
      "Requirement already satisfied: pandas in c:\\users\\username\\anaconda3\\lib\\site-packages (from googlefinance.client) (0.21.0)\n",
      "Requirement already satisfied: pytz in c:\\users\\username\\anaconda3\\lib\\site-packages (from datetime->googlefinance.client) (2017.3)\n",
      "Collecting zope.interface (from datetime->googlefinance.client)\n",
      "  Downloading https://files.pythonhosted.org/packages/5d/d7/aba043947b0fa58a2dd6d5e25295426508c834945840954182099c676910/zope.interface-4.5.0-cp36-cp36m-win_amd64.whl (132kB)\n",
      "Requirement already satisfied: chardet<3.1.0,>=3.0.2 in c:\\users\\username\\anaconda3\\lib\\site-packages (from requests->googlefinance.client) (3.0.4)\n",
      "Requirement already satisfied: idna<2.7,>=2.5 in c:\\users\\username\\anaconda3\\lib\\site-packages (from requests->googlefinance.client) (2.6)\n",
      "Requirement already satisfied: urllib3<1.23,>=1.21.1 in c:\\users\\username\\anaconda3\\lib\\site-packages (from requests->googlefinance.client) (1.22)\n",
      "Requirement already satisfied: certifi>=2017.4.17 in c:\\users\\username\\anaconda3\\lib\\site-packages (from requests->googlefinance.client) (2018.1.18)\n",
      "Requirement already satisfied: numpy>=1.9.0 in c:\\users\\username\\anaconda3\\lib\\site-packages (from pandas->googlefinance.client) (1.14.0)\n",
      "Requirement already satisfied: python-dateutil>=2 in c:\\users\\username\\anaconda3\\lib\\site-packages (from pandas->googlefinance.client) (2.6.1)\n",
      "Requirement already satisfied: setuptools in c:\\users\\username\\anaconda3\\lib\\site-packages (from zope.interface->datetime->googlefinance.client) (38.4.0)\n",
      "Requirement already satisfied: six>=1.5 in c:\\users\\username\\anaconda3\\lib\\site-packages (from python-dateutil>=2->pandas->googlefinance.client) (1.11.0)\n",
      "Building wheels for collected packages: googlefinance.client\n",
      "  Running setup.py bdist_wheel for googlefinance.client: started\n",
      "  Running setup.py bdist_wheel for googlefinance.client: finished with status 'done'\n",
      "  Stored in directory: C:\\Users\\username\\AppData\\Local\\pip\\Cache\\wheels\\02\\e8\\0e\\0393e88a796451109f34f5bc606492c775e1a0b1b3660fd5bc\n",
      "Successfully built googlefinance.client\n",
      "Installing collected packages: zope.interface, datetime, googlefinance.client\n",
      "Successfully installed datetime-4.2 googlefinance.client-1.3.0 zope.interface-4.5.0\n"
     ]
    }
   ],
   "source": [
    "#!pip install googlefinance.client  #run once only"
   ]
  },
  {
   "cell_type": "code",
   "execution_count": 3,
   "metadata": {},
   "outputs": [],
   "source": [
    "from googlefinance.client import get_price_data, get_prices_data, get_prices_time_data\n"
   ]
  },
  {
   "cell_type": "code",
   "execution_count": 4,
   "metadata": {},
   "outputs": [
    {
     "name": "stdout",
     "output_type": "stream",
     "text": [
      "google-api-python-client==1.6.6\n",
      "googledrivedownloader==0.3\n",
      "googlefinance==0.7\n",
      "googlefinance.client==1.3.0\n",
      "googlemaps==2.5.1\n"
     ]
    }
   ],
   "source": [
    "!pip freeze | grep google"
   ]
  },
  {
   "cell_type": "markdown",
   "metadata": {},
   "source": [
    "Dow Jones Industrial Average  = INDEXDJX  \n"
   ]
  },
  {
   "cell_type": "code",
   "execution_count": 13,
   "metadata": {},
   "outputs": [
    {
     "name": "stdout",
     "output_type": "stream",
     "text": [
      "<class 'dict'>\n"
     ]
    }
   ],
   "source": [
    "param = {\n",
    "    #'q': \".DJI\", # Stock symbol (ex: \"AAPL\")\n",
    "    'q': \"AAPL\", # Stock symbol (ex: \"AAPL\")\n",
    "    'i': \"86400\", # Interval size in seconds (\"86400\" = 1 day intervals)\n",
    "    'x': \"NASDAQ\", # Stock exchange symbol on which stock is traded (ex: \"NASD\")\n",
    "    'p': \"1Y\" # Period (Ex: \"1Y\" = 1 year)\n",
    "}\n",
    "print (type(param))"
   ]
  },
  {
   "cell_type": "code",
   "execution_count": 15,
   "metadata": {},
   "outputs": [
    {
     "name": "stdout",
     "output_type": "stream",
     "text": [
      "<class 'dict'>\n"
     ]
    }
   ],
   "source": [
    "param = {\n",
    "    'q': \"BHP\", # Stock symbol (ex: \"AAPL\")\n",
    "    'i': \"86400\", # Interval size in seconds (\"86400\" = 1 day intervals)\n",
    "    'x': \"ASX\", # Stock exchange symbol on which stock is traded (ex: \"NASD\")\n",
    "    'p': \"1Y\" # Period (Ex: \"1Y\" = 1 year)\n",
    "}\n",
    "print (type(param))"
   ]
  },
  {
   "cell_type": "code",
   "execution_count": 21,
   "metadata": {},
   "outputs": [
    {
     "name": "stdout",
     "output_type": "stream",
     "text": [
      "<class 'dict'>\n"
     ]
    }
   ],
   "source": [
    "param = {\n",
    "    'q': \"BHP\", # Stock symbol (ex: \"AAPL\")\n",
    "    'i': \"30\", # Interval size in seconds (\"86400\" = 1 day intervals)\n",
    "    'x': \"ASX\", # Stock exchange symbol on which stock is traded (ex: \"NASD\")\n",
    "    'p': \"1d\" # Period (Ex: \"1Y\" = 1 year)\n",
    "}\n",
    "print (type(param))"
   ]
  },
  {
   "cell_type": "code",
   "execution_count": 22,
   "metadata": {},
   "outputs": [
    {
     "name": "stdout",
     "output_type": "stream",
     "text": [
      "<class 'pandas.core.frame.DataFrame'> (360, 5)\n",
      "['Open', 'High', 'Low', 'Close', 'Volume']\n"
     ]
    }
   ],
   "source": [
    "# get price data (return pandas dataframe)\n",
    "df = get_price_data(param)\n",
    "print(type(df), df.shape)\n",
    "print (list(df))"
   ]
  },
  {
   "cell_type": "code",
   "execution_count": 23,
   "metadata": {},
   "outputs": [
    {
     "data": {
      "text/html": [
       "<div>\n",
       "<style scoped>\n",
       "    .dataframe tbody tr th:only-of-type {\n",
       "        vertical-align: middle;\n",
       "    }\n",
       "\n",
       "    .dataframe tbody tr th {\n",
       "        vertical-align: top;\n",
       "    }\n",
       "\n",
       "    .dataframe thead th {\n",
       "        text-align: right;\n",
       "    }\n",
       "</style>\n",
       "<table border=\"1\" class=\"dataframe\">\n",
       "  <thead>\n",
       "    <tr style=\"text-align: right;\">\n",
       "      <th></th>\n",
       "      <th>Open</th>\n",
       "      <th>High</th>\n",
       "      <th>Low</th>\n",
       "      <th>Close</th>\n",
       "      <th>Volume</th>\n",
       "    </tr>\n",
       "  </thead>\n",
       "  <tbody>\n",
       "    <tr>\n",
       "      <th>2018-06-15 10:00:00</th>\n",
       "      <td>33.55</td>\n",
       "      <td>33.55</td>\n",
       "      <td>33.54</td>\n",
       "      <td>33.545</td>\n",
       "      <td>136718</td>\n",
       "    </tr>\n",
       "    <tr>\n",
       "      <th>2018-06-15 10:01:00</th>\n",
       "      <td>33.55</td>\n",
       "      <td>33.55</td>\n",
       "      <td>33.49</td>\n",
       "      <td>33.490</td>\n",
       "      <td>36930</td>\n",
       "    </tr>\n",
       "    <tr>\n",
       "      <th>2018-06-15 10:02:00</th>\n",
       "      <td>33.49</td>\n",
       "      <td>33.59</td>\n",
       "      <td>33.49</td>\n",
       "      <td>33.580</td>\n",
       "      <td>11021</td>\n",
       "    </tr>\n",
       "    <tr>\n",
       "      <th>2018-06-15 10:03:00</th>\n",
       "      <td>33.59</td>\n",
       "      <td>33.65</td>\n",
       "      <td>33.58</td>\n",
       "      <td>33.640</td>\n",
       "      <td>26304</td>\n",
       "    </tr>\n",
       "    <tr>\n",
       "      <th>2018-06-15 10:04:00</th>\n",
       "      <td>33.64</td>\n",
       "      <td>33.67</td>\n",
       "      <td>33.64</td>\n",
       "      <td>33.660</td>\n",
       "      <td>5094</td>\n",
       "    </tr>\n",
       "  </tbody>\n",
       "</table>\n",
       "</div>"
      ],
      "text/plain": [
       "                      Open   High    Low   Close  Volume\n",
       "2018-06-15 10:00:00  33.55  33.55  33.54  33.545  136718\n",
       "2018-06-15 10:01:00  33.55  33.55  33.49  33.490   36930\n",
       "2018-06-15 10:02:00  33.49  33.59  33.49  33.580   11021\n",
       "2018-06-15 10:03:00  33.59  33.65  33.58  33.640   26304\n",
       "2018-06-15 10:04:00  33.64  33.67  33.64  33.660    5094"
      ]
     },
     "execution_count": 23,
     "metadata": {},
     "output_type": "execute_result"
    }
   ],
   "source": [
    "df.head()"
   ]
  },
  {
   "cell_type": "code",
   "execution_count": 24,
   "metadata": {},
   "outputs": [],
   "source": [
    "import pandas as pd\n",
    "import matplotlib.pyplot as plt\n",
    "\n",
    "%matplotlib inline"
   ]
  },
  {
   "cell_type": "code",
   "execution_count": 25,
   "metadata": {},
   "outputs": [
    {
     "data": {
      "image/png": "[encoded data removed]",
      "text/plain": [
       "<matplotlib.figure.Figure at 0x1c07fecb8d0>"
      ]
     },
     "metadata": {},
     "output_type": "display_data"
    }
   ],
   "source": [
    "if df.shape[0]>0:\n",
    "    df.Close.plot()\n",
    "    plt.show()"
   ]
  },
  {
   "cell_type": "code",
   "execution_count": null,
   "metadata": {},
   "outputs": [],
   "source": []
  }
 ],
 "metadata": {
  "kernelspec": {
   "display_name": "Python 3",
   "language": "python",
   "name": "python3"
  }
 },
 "nbformat": 4,
 "nbformat_minor": 2
}
